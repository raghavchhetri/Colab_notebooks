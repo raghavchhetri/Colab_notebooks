{
  "nbformat": 4,
  "nbformat_minor": 0,
  "metadata": {
    "colab": {
      "name": "OOPs_Class.ipynb",
      "provenance": [],
      "collapsed_sections": [],
      "toc_visible": true,
      "authorship_tag": "ABX9TyP3Tr0bvavMbJ09bg/BH7eF",
      "include_colab_link": true
    },
    "kernelspec": {
      "name": "python3",
      "display_name": "Python 3"
    }
  },
  "cells": [
    {
      "cell_type": "markdown",
      "metadata": {
        "id": "view-in-github",
        "colab_type": "text"
      },
      "source": [
        "<a href=\"https://colab.research.google.com/github/raghavchhetri/Colab_notebooks/blob/main/OOPs_Class.ipynb\" target=\"_parent\"><img src=\"https://colab.research.google.com/assets/colab-badge.svg\" alt=\"Open In Colab\"/></a>"
      ]
    },
    {
      "cell_type": "markdown",
      "metadata": {
        "id": "uIv20BFWq4yE"
      },
      "source": [
        "**Python OOP: Four Pillars of OOP in Python 3 for Begineers (Udemy)**\n",
        "\n",
        "04-07-2020"
      ]
    },
    {
      "cell_type": "markdown",
      "metadata": {
        "id": "TPjj3Sdxvd7X"
      },
      "source": [
        "### Class and Objects"
      ]
    },
    {
      "cell_type": "markdown",
      "metadata": {
        "id": "zgXOcqb1rKBE"
      },
      "source": [
        "```\n",
        "Noun (name) -->  Class\n",
        "\n",
        "Adjective (properties) --> Attributes\n",
        "\n",
        "Verb (action) --> Methods\n",
        "```\n",
        "\n",
        "\n",
        "\n",
        "Methods are functions that are defined within a class. 'self' is a default parameter that the methods accept and is used to access the attributes of the class  "
      ]
    },
    {
      "cell_type": "code",
      "metadata": {
        "id": "5wxfs0DzrX4O"
      },
      "source": [
        "class ScientistA:\n",
        "  name =  \"Dave\"\n",
        "  title = \"Researcher\"\n",
        "  exptperweek = 6\n",
        "\n",
        "  def metgoal(self):\n",
        "    if self.exptperweek  >=5:\n",
        "      print('Performed all experiments')\n",
        "    else:\n",
        "      print('Didn''t perform all experiments')"
      ],
      "execution_count": 59,
      "outputs": []
    },
    {
      "cell_type": "markdown",
      "metadata": {
        "id": "VvlOdvlTtoTL"
      },
      "source": [
        "In  order to access the methods and attributes for the class, we need to create an object for the class"
      ]
    },
    {
      "cell_type": "code",
      "metadata": {
        "id": "GWEp7k38tnw9",
        "colab": {
          "base_uri": "https://localhost:8080/"
        },
        "outputId": "e6e82098-86a3-49d6-edf0-43df1ae84b93"
      },
      "source": [
        "labMemberOne = ScientistA()\n",
        "labMemberTwo = ScientistA()\n",
        "\n",
        "print(labMemberOne.name, labMemberTwo.name)"
      ],
      "execution_count": 60,
      "outputs": [
        {
          "output_type": "stream",
          "text": [
            "Dave Dave\n"
          ],
          "name": "stdout"
        }
      ]
    },
    {
      "cell_type": "markdown",
      "metadata": {
        "id": "aa3ngZISudCw"
      },
      "source": [
        "So, although we successfully wrote a class and created two objects, it's clear that we need further improvements to make it more useful. For instance, we'd want to assign different attributes to each object.\n",
        "\n",
        "Key takeaway: Classes are blueprints and Objects are the execution of that blueprint"
      ]
    },
    {
      "cell_type": "markdown",
      "metadata": {
        "id": "u7Eb0F1YnJHi"
      },
      "source": [
        "### Attributes"
      ]
    },
    {
      "cell_type": "markdown",
      "metadata": {
        "id": "N6rTm3GSvvhL"
      },
      "source": [
        "**Class attributes:**\n",
        "\n",
        "These properties remain the same for all objects of the class. 'workplace' below.\n",
        "\n",
        "**Instance attributes:**\n",
        "\n",
        "These properties are specific to each instance of the class. 'name', 'title', 'exptperweek' below."
      ]
    },
    {
      "cell_type": "code",
      "metadata": {
        "id": "zUqTcAaDwDuG"
      },
      "source": [
        "class ScientistB:\n",
        "  workplace =  \"Janelia\"\n",
        "\n",
        "  def metgoal(self,name,title,exptperweek):\n",
        "    self.name = name\n",
        "    self.title = title\n",
        "    self.exptperweek =exptperweek\n",
        "       \n",
        "    if self.exptperweek  >=5:\n",
        "      print('Performed all experiments')\n",
        "    else:\n",
        "      print('Didn''t perform all experiments')\n",
        "  \n",
        "  def thankmember(self):\n",
        "    print('Thank you for your research contributions',self.name)"
      ],
      "execution_count": 61,
      "outputs": []
    },
    {
      "cell_type": "code",
      "metadata": {
        "id": "VRPd4orvxhDV"
      },
      "source": [
        "# Create an instance of the class\n",
        "labMemberOne = ScientistB()"
      ],
      "execution_count": 62,
      "outputs": []
    },
    {
      "cell_type": "code",
      "metadata": {
        "id": "lEeQUFvE3SrE",
        "colab": {
          "base_uri": "https://localhost:8080/"
        },
        "outputId": "d6e0c4ef-cd58-4797-92a5-7670055bef16"
      },
      "source": [
        "print('Employee at', labMemberOne.workplace)\n",
        "labMemberOne.metgoal('Tim','Research Scientist',5)\n",
        "labMemberOne.thankmember()"
      ],
      "execution_count": 63,
      "outputs": [
        {
          "output_type": "stream",
          "text": [
            "Employee at Janelia\n",
            "Performed all experiments\n",
            "Thank you for your research contributions Tim\n"
          ],
          "name": "stdout"
        }
      ]
    },
    {
      "cell_type": "markdown",
      "metadata": {
        "id": "6cRrPdK5nwur"
      },
      "source": [
        "### Methods"
      ]
    },
    {
      "cell_type": "markdown",
      "metadata": {
        "id": "mvUXWDOh0-VX"
      },
      "source": [
        "####Instance methods\n",
        "\n",
        "These methods use the 'self' parameter to access and modify the instance attributes of your class"
      ]
    },
    {
      "cell_type": "markdown",
      "metadata": {
        "id": "7BvaynZ1rMVk"
      },
      "source": [
        "####Static methods\n",
        "\n",
        "These methods don't take  the default 'self' parameter. These are defined using a decorator  called @staticmethod. Decorators take a method and extend the functionality of the method"
      ]
    },
    {
      "cell_type": "code",
      "metadata": {
        "id": "8eKH1SyJ1IF5"
      },
      "source": [
        "class ScientistC:\n",
        "  workplace =  \"Janelia\"\n",
        "\n",
        "  def metgoal(self,name,title,exptperweek):\n",
        "    self.name = name\n",
        "    self.title = title\n",
        "    self.exptperweek =exptperweek\n",
        "       \n",
        "    if self.exptperweek  >=5:\n",
        "      print('Performed all experiments')\n",
        "    else:\n",
        "      print('Didn''t perform all experiments')\n",
        "  \n",
        "  @staticmethod\n",
        "  def thankmember():\n",
        "    print('Thank you for your research contributions!')"
      ],
      "execution_count": 64,
      "outputs": []
    },
    {
      "cell_type": "code",
      "metadata": {
        "id": "jmkjB0Uk3NJB",
        "colab": {
          "base_uri": "https://localhost:8080/"
        },
        "outputId": "39527f9b-0d5e-4453-94f8-91c2dca4a67b"
      },
      "source": [
        "labMemberOne = ScientistC()\n",
        "\n",
        "print('Employee at', labMemberOne.workplace)\n",
        "labMemberOne.metgoal('Julia','Research Scientist',5)\n",
        "labMemberOne.thankmember()"
      ],
      "execution_count": 65,
      "outputs": [
        {
          "output_type": "stream",
          "text": [
            "Employee at Janelia\n",
            "Performed all experiments\n",
            "Thank you for your research contributions!\n"
          ],
          "name": "stdout"
        }
      ]
    },
    {
      "cell_type": "code",
      "metadata": {
        "id": "W96cImZe4UIU"
      },
      "source": [
        "class ScientistD:\n",
        "  workplace =  \"Janelia\"\n",
        "\n",
        "  def employeeDetails(self,name,title):\n",
        "    self.name = name\n",
        "    self.title = title\n",
        "\n",
        "  def metgoal(self,exptperweek):\n",
        "    self.exptperweek =exptperweek\n",
        "       \n",
        "    if self.exptperweek  >=5:\n",
        "      print('Performed all experiments')\n",
        "    else:\n",
        "      print('Didn''t perform all experiments')\n",
        "  \n",
        "  def thankmember(self):\n",
        "    print('Thank you for your research contributions',self.name)"
      ],
      "execution_count": 66,
      "outputs": []
    },
    {
      "cell_type": "code",
      "metadata": {
        "id": "fww32rQM5Dv9"
      },
      "source": [
        "labMember = ScientistD()"
      ],
      "execution_count": 67,
      "outputs": []
    },
    {
      "cell_type": "markdown",
      "metadata": {
        "id": "mlh9XKD-5mQt"
      },
      "source": [
        "Say, you were to run the following: \n",
        "\n",
        "```\n",
        "labMember.metgoal(5)\n",
        "labMember.thankmember()\n",
        "```\n",
        "\n",
        "Since the method in which the instance attribute 'self.name' was defined isn't called, it will throw an 'AttributeError'\n",
        "\n",
        "However, if you first call the method where the attribute 'self.name' is defined, then it works without this error"
      ]
    },
    {
      "cell_type": "code",
      "metadata": {
        "id": "f_McpLL75GD_",
        "colab": {
          "base_uri": "https://localhost:8080/"
        },
        "outputId": "e419c488-8c87-4750-90a5-7141a631f51d"
      },
      "source": [
        "labMember.employeeDetails('Tanya','Research Scientist')\n",
        "labMember.metgoal(5)\n",
        "labMember.thankmember()"
      ],
      "execution_count": 68,
      "outputs": [
        {
          "output_type": "stream",
          "text": [
            "Performed all experiments\n",
            "Thank you for your research contributions Tanya\n"
          ],
          "name": "stdout"
        }
      ]
    },
    {
      "cell_type": "markdown",
      "metadata": {
        "id": "3_9r-V6m63pK"
      },
      "source": [
        "So, this makes it clear that we need to have a mechanism that initializes all the attributes of our object of our class before they are to be used. Python has a special method called the __init__ method for this"
      ]
    },
    {
      "cell_type": "markdown",
      "metadata": {
        "id": "vDRjSjf44Rzr"
      },
      "source": [
        "#### `__init__` method"
      ]
    },
    {
      "cell_type": "code",
      "metadata": {
        "id": "tlIfaQEY7Jzz"
      },
      "source": [
        "class ScientistE:\n",
        "  workplace =  \"Janelia\"\n",
        "\n",
        "  def __init__(self,name,title):\n",
        "    self.name = name\n",
        "    self.title = title\n",
        "\n",
        "  def metgoal(self,exptperweek):\n",
        "    self.exptperweek =exptperweek\n",
        "       \n",
        "    if self.exptperweek  >=5:\n",
        "      print('Performed all experiments')\n",
        "    else:\n",
        "      print('Didn''t perform all experiments')\n",
        "  \n",
        "  def thankmember(self):\n",
        "    print('Thank you for your research contributions,',self.name,'!')"
      ],
      "execution_count": 69,
      "outputs": []
    },
    {
      "cell_type": "code",
      "metadata": {
        "id": "Gv8uj-0D7_9j"
      },
      "source": [
        "member = ScientistE('Draymond','Research Scientist')"
      ],
      "execution_count": 70,
      "outputs": []
    },
    {
      "cell_type": "code",
      "metadata": {
        "id": "KlptX0ou8DJR",
        "colab": {
          "base_uri": "https://localhost:8080/"
        },
        "outputId": "45a09efc-0afe-4beb-b201-e97ab6d81370"
      },
      "source": [
        "print(member.name,'is a', member.title, 'at', member.workplace)\n",
        "member.metgoal(5)\n",
        "member.thankmember()"
      ],
      "execution_count": 71,
      "outputs": [
        {
          "output_type": "stream",
          "text": [
            "Draymond is a Research Scientist at Janelia\n",
            "Performed all experiments\n",
            "Thank you for your research contributions, Draymond !\n"
          ],
          "name": "stdout"
        }
      ]
    },
    {
      "cell_type": "markdown",
      "metadata": {
        "id": "ezDiGqmUn1NS"
      },
      "source": [
        "### Abstraction and Encapsulation"
      ]
    },
    {
      "cell_type": "markdown",
      "metadata": {
        "id": "RGb-rgefo-hT"
      },
      "source": [
        "\n",
        "**Abstraction** is the act of only giving out the most essential information while the details are hidden or **encapsulated**. In other words, **abstraction** presents a simplified picture of the complexities that are behind the curtain. **Encapsulation** is the process of hiding the code and data into a single unit to achieve **abstraction**.\n",
        "\n",
        "\n",
        "For example, when you apply 'append' to your list, 'append' is the level of abstraction provided to you to add an element to the list. The internals of the 'append' command isn't exposed to the user as it has been encapsulated in the list class."
      ]
    },
    {
      "cell_type": "code",
      "metadata": {
        "id": "2H898baevGoU"
      },
      "source": [
        "class Car:\n",
        "    def __init__(self):\n",
        "        # A dictionary to map the type of car and price per day\n",
        "        self.carFare = {'Hatchback': 30, 'Sedan': 50, 'SUV': 100}\n",
        "\n",
        "    def displayFareDetails(self):\n",
        "        print(\"Cost per day: \")\n",
        "        print(\"Hatchback: $\",self.carFare['Hatchback'])\n",
        "        print(\"Sedan: $\", self.carFare['Sedan'])\n",
        "        print(\"SUV: $\", self.carFare['SUV'])\n",
        "\n",
        "    def calculateFare(self, typeOfCar, numberOfDays):\n",
        "      self.typeOfCar = typeOfCar\n",
        "      self.numberOfDays = numberOfDays \n",
        "      # Calculate the fare depending upon the type of car and number of days as requested by the user       \n",
        "      print(\"Type of vehicle:\", self.typeOfCar)\n",
        "      print(\"Number of days:\", self.numberOfDays)\n",
        "      print(\"Here is your total price: $\", self.carFare[self.typeOfCar] * self.numberOfDays)\n",
        "      print(\"Thank you!\")"
      ],
      "execution_count": 72,
      "outputs": []
    },
    {
      "cell_type": "code",
      "metadata": {
        "id": "X6GG5INnzLvX",
        "colab": {
          "base_uri": "https://localhost:8080/"
        },
        "outputId": "cbb5cea4-6375-4bfa-9550-71fec90af3ae"
      },
      "source": [
        "car = Car()\n",
        "car.displayFareDetails()"
      ],
      "execution_count": 73,
      "outputs": [
        {
          "output_type": "stream",
          "text": [
            "Cost per day: \n",
            "Hatchback: $ 30\n",
            "Sedan: $ 50\n",
            "SUV: $ 100\n"
          ],
          "name": "stdout"
        }
      ]
    },
    {
      "cell_type": "code",
      "metadata": {
        "id": "BJxLQDXn19kh",
        "colab": {
          "base_uri": "https://localhost:8080/"
        },
        "outputId": "f2b946c6-14af-4da2-b1b2-bf5c6aeeae02"
      },
      "source": [
        "car.calculateFare('SUV', 3)"
      ],
      "execution_count": 74,
      "outputs": [
        {
          "output_type": "stream",
          "text": [
            "Type of vehicle: SUV\n",
            "Number of days: 3\n",
            "Here is your total price: $ 300\n",
            "Thank you!\n"
          ],
          "name": "stdout"
        }
      ]
    },
    {
      "cell_type": "markdown",
      "metadata": {
        "id": "15EGARbNxfK8"
      },
      "source": [
        "### Inheritance\n",
        "Inheritance is a way to form new classes using classes that have already been defined. The newly formed classes are called derived classes, and the classes that we derive from are called base classes. Important benefits of inheritance are code reuse and reduction in complexity of a program. The derived classes (**descendants**) override or extend the functionality of base classes (**ancestors**)."
      ]
    },
    {
      "cell_type": "markdown",
      "metadata": {
        "id": "50QSoOplB-Od"
      },
      "source": [
        "#### Single inheritence"
      ]
    },
    {
      "cell_type": "code",
      "metadata": {
        "id": "AnEpvoTe_HjP"
      },
      "source": [
        "class Apple: #base class\n",
        "  manufacturer = \"Apple Inc\"\n",
        "  contactWebsite = \"www.apple.com/contact\"\n",
        "\n",
        "  def contactDetails(self):\n",
        "    print(\"To contact us, log on to\", self.contactWebsite)\n",
        "\n",
        "class Macbook(Apple): #derived class\n",
        "  def __init__(self,year,product):\n",
        "    self.year = year\n",
        "    self.product = product\n",
        "\n",
        "  def productDetails(self):\n",
        "    print(\"This device is a {} manufactured in {} by {}.\".format(self.product, self.year, self.manufacturer))"
      ],
      "execution_count": 75,
      "outputs": []
    },
    {
      "cell_type": "code",
      "metadata": {
        "id": "PwxUT2EnAfbH",
        "colab": {
          "base_uri": "https://localhost:8080/"
        },
        "outputId": "82e9b838-2ec6-4ca9-e69a-d1f11e8d6405"
      },
      "source": [
        "macbook = Macbook(2009,\"Macbook Pro\")\n",
        "macbook.productDetails() # Calling the method in the derived class\n",
        "macbook.contactDetails() # Method in the base class is inherited by the derived class, so calling that method directly"
      ],
      "execution_count": 76,
      "outputs": [
        {
          "output_type": "stream",
          "text": [
            "This device is a Macbook Pro manufactured in 2009 by Apple Inc.\n",
            "To contact us, log on to www.apple.com/contact\n"
          ],
          "name": "stdout"
        }
      ]
    },
    {
      "cell_type": "markdown",
      "metadata": {
        "id": "H_m6KsDXB3k6"
      },
      "source": [
        "#### Multiple inheritence\n",
        "\n",
        "\n",
        "The order in which the base classes are defined in the derived class matters. So, if both classes use the same attribute, then the attribute from the first class is used (for instance, 'name' below)"
      ]
    },
    {
      "cell_type": "code",
      "metadata": {
        "id": "JMFnPVTIBzrF"
      },
      "source": [
        "class OperatingSystem: #first base class\n",
        "  name = \"Mac OS Mojave\"\n",
        "\n",
        "class Apple: #second base class\n",
        "  manufacturer = \"Apple Inc\"\n",
        "  contactWebsite = \"www.apple.com/contact\"\n",
        "  name = \"Apple\"\n",
        "\n",
        "  def contactDetails(self):\n",
        "    print(\"To contact {}, log on to {}\".format(self.name,self.contactWebsite))\n",
        "\n",
        "class Macbook(OperatingSystem,Apple): #derived class with two base classes\n",
        "  def __init__(self,year,product):\n",
        "    self.year = year\n",
        "    self.product = product\n",
        "\n",
        "  def productDetails(self):\n",
        "    print(\"This device is a {} manufactured in {} by {}. The OS on this machine is {}.\"\n",
        "    .format(self.product, self.year, self.manufacturer,self.name))"
      ],
      "execution_count": 77,
      "outputs": []
    },
    {
      "cell_type": "code",
      "metadata": {
        "id": "_qGZM81JDUkE",
        "colab": {
          "base_uri": "https://localhost:8080/"
        },
        "outputId": "59ce4f04-2b68-412d-ec66-123cf622f837"
      },
      "source": [
        "macbook2 = Macbook(2019,\"Macbook Air\")\n",
        "macbook2.productDetails() \n",
        "macbook2.contactDetails()"
      ],
      "execution_count": 78,
      "outputs": [
        {
          "output_type": "stream",
          "text": [
            "This device is a Macbook Air manufactured in 2019 by Apple Inc. The OS on this machine is Mac OS Mojave.\n",
            "To contact Mac OS Mojave, log on to www.apple.com/contact\n"
          ],
          "name": "stdout"
        }
      ]
    },
    {
      "cell_type": "markdown",
      "metadata": {
        "id": "CQnwcsVFEuAy"
      },
      "source": [
        "#### Multilevel inheritence\n",
        "\n",
        "When you have classes at multiple levels. For instance, let's say there are 3 classes- classA, classB, and classC. Suppose classB inherits from classA, and classC inherits from classB. Then, classC will now have access to all the methods and attributes of both classB and classA.  "
      ]
    },
    {
      "cell_type": "code",
      "metadata": {
        "id": "V-EJFscyE0Bu"
      },
      "source": [
        "class Grandfather:\n",
        "  surname = \"Jordan\"\n",
        "  origin = \"North Carolina\"\n",
        "\n",
        "class Father(Grandfather):\n",
        "  city = \"Chapel Hill\"\n",
        "\n",
        "class Child(Father):\n",
        "  school = \"UNC\"\n",
        "  sibblings = 3\n",
        "\n",
        "  def __init__(self,name):\n",
        "    self.name = name\n",
        "\n",
        "  def moreInfo(self):\n",
        "    print(\"{} {} is from {} and grew up in {}. She attended {}. She has {} sibblings who attend the same school.\"\n",
        "    .format(self.name, self.surname, self.origin, self.city, self.school, self.sibblings))                  "
      ],
      "execution_count": 79,
      "outputs": []
    },
    {
      "cell_type": "code",
      "metadata": {
        "id": "cxM54uVfE6If",
        "colab": {
          "base_uri": "https://localhost:8080/"
        },
        "outputId": "b983a1e6-bdf8-4221-ae3f-a818a2de7f57"
      },
      "source": [
        "child = Child(\"Maya\")\n",
        "child.moreInfo()"
      ],
      "execution_count": 80,
      "outputs": [
        {
          "output_type": "stream",
          "text": [
            "Maya Jordan is from North Carolina and grew up in Chapel Hill. She attended UNC. She has 3 sibblings who attend the same school.\n"
          ],
          "name": "stdout"
        }
      ]
    },
    {
      "cell_type": "markdown",
      "metadata": {
        "id": "dogNDefvJR52"
      },
      "source": [
        "#### Access specifiers\n",
        "\n",
        "\n",
        "**Public**: public attributes and methods of a class are accessible from within the class, derived classes, as well as from anywhere outside the derived classes\n",
        "\n",
        "**Protected**: protected attributes and methods of a class are accessible from within the class and the derived classes\n",
        "\n",
        "**Private**: private attributes and methods of a class are accessible only from within the class-- not even the derived classes have access to this information\n",
        "\n",
        "\n",
        "Unlike other programming languages (C++, Java etc), Python doesn't force access specifiers. However, they are strongly encouraged through a naming convention that has been followed over the years \n",
        "\n",
        "*   public --> memberName\n",
        "*   protected --> _memberName\n",
        "*   private --> __memberName"
      ]
    },
    {
      "cell_type": "code",
      "metadata": {
        "id": "z5RkqQ7HNcNj"
      },
      "source": [
        "class Vehicle:\n",
        "  numberofWheels = 4 #public\n",
        "  _color = \"Blue\" #protected i.e., use in this class and derived classes\n",
        "  __yearOfManufacture = 2019 #private i.e., use only in this class\n",
        "\n",
        "class Car(Vehicle):\n",
        "  def __init__(self):\n",
        "    print(\"Car color (Protected attribute acquired from the base class):\",self._color)"
      ],
      "execution_count": 81,
      "outputs": []
    },
    {
      "cell_type": "code",
      "metadata": {
        "id": "18IXpsFWOLEw",
        "colab": {
          "base_uri": "https://localhost:8080/"
        },
        "outputId": "8f2a5dbd-e38f-4220-cd2b-7533e0303d3d"
      },
      "source": [
        "car = Car()\n",
        "print(car.numberofWheels)\n",
        "print(car._color)"
      ],
      "execution_count": 82,
      "outputs": [
        {
          "output_type": "stream",
          "text": [
            "Car color (Protected attribute acquired from the base class): Blue\n",
            "4\n",
            "Blue\n"
          ],
          "name": "stdout"
        }
      ]
    },
    {
      "cell_type": "markdown",
      "metadata": {
        "id": "qL-YYzIaPDv6"
      },
      "source": [
        "If we try to access the private attribute of the base class (Vehicle) from the derived class (Car), it'll throw an attribute error:\n",
        "\n",
        "```\n",
        "print(car.__yearOfManufacture)\n",
        "\n",
        "---------------------------------------------------------------------------\n",
        "AttributeError                            Traceback (most recent call last)\n",
        "<ipython-input-23-e98671bca5f4> in <module>()\n",
        "----> 1 print(car.__yearOfManufacture)\n",
        "\n",
        "AttributeError: 'Car' object has no attribute '__yearOfManufacture'\n",
        "```"
      ]
    },
    {
      "cell_type": "code",
      "metadata": {
        "id": "DybGUwXXSlUW",
        "colab": {
          "base_uri": "https://localhost:8080/"
        },
        "outputId": "f0fc6e56-e6e7-41b8-f16c-0ca32da7f2eb"
      },
      "source": [
        "vehicle = Vehicle()\n",
        "print(\"Public Attribute:\",vehicle.numberofWheels)\n",
        "print(\"Protected Attribute:\",vehicle._color)"
      ],
      "execution_count": 83,
      "outputs": [
        {
          "output_type": "stream",
          "text": [
            "Public Attribute: 4\n",
            "Protected Attribute: Blue\n"
          ],
          "name": "stdout"
        }
      ]
    },
    {
      "cell_type": "markdown",
      "metadata": {
        "id": "JByj-TUtS-2R"
      },
      "source": [
        "Let's create an object tbat belongs to the base class (Vehicle). Now, you'll notice that the public and protected classes can be accessed. However, the private class still throws an AttributeError.\n",
        "```\n",
        "print(vehicle.__yearOfManufacture)\n",
        "\n",
        "---------------------------------------------------------------------------\n",
        "AttributeError                            Traceback (most recent call last)\n",
        "<ipython-input-35-475c338e1691> in <module>()\n",
        "----> 1 print(vehicle.__yearOfManufacture)\n",
        "\n",
        "AttributeError: 'Vehicle' object has no attribute '__yearOfManufacture'\n",
        "```\n",
        "\n"
      ]
    },
    {
      "cell_type": "markdown",
      "metadata": {
        "id": "JS32eMhgT5GH"
      },
      "source": [
        "The above AttributeError was thrown because Python internally mangles the private data as *_Class__PrivateData*. So, if you must access the private data (strongly discouraged), you can do so by calling *_Class_PrivateData*"
      ]
    },
    {
      "cell_type": "code",
      "metadata": {
        "id": "Ac_YcsbGTfvP",
        "colab": {
          "base_uri": "https://localhost:8080/"
        },
        "outputId": "4bba415b-6638-45a2-df4a-b52343aca177"
      },
      "source": [
        "print(vehicle._Vehicle__yearOfManufacture)"
      ],
      "execution_count": 84,
      "outputs": [
        {
          "output_type": "stream",
          "text": [
            "2019\n"
          ],
          "name": "stdout"
        }
      ]
    },
    {
      "cell_type": "markdown",
      "metadata": {
        "id": "OhuQQ9G-x6Ta"
      },
      "source": [
        "### Polymorphism \n",
        "\n",
        "Polymorphism is the process of using an operator or function in different ways for different data input. In practical terms, polymorphism means that if class B inherits from class A, it doesn't have to inherit everything about class A. It can override the base class methods and do some of those things differently.\n",
        "\n",
        "In Python, Polymorphism allows us to define methods in the child class with the same name as defined in their parent class."
      ]
    },
    {
      "cell_type": "code",
      "metadata": {
        "id": "dhgEQDETWg3U",
        "colab": {
          "base_uri": "https://localhost:8080/"
        },
        "outputId": "9e9adce0-be56-4a9a-8965-22f3b59a0d6d"
      },
      "source": [
        "# Overriding\n",
        "class A:\n",
        "    def explore(self):\n",
        "        print(\"explore() method from class A\")\n",
        " \n",
        "class B(A):\n",
        "    def explore(self):\n",
        "        print(\"Override method from class A and use explore() method from class B\")\n",
        "  \n",
        "b = B()\n",
        "a = A()\n",
        " \n",
        "b.explore()\n",
        "a.explore()"
      ],
      "execution_count": 85,
      "outputs": [
        {
          "output_type": "stream",
          "text": [
            "Override method from class A and use explore() method from class B\n",
            "explore() method from class A\n"
          ],
          "name": "stdout"
        }
      ]
    },
    {
      "cell_type": "markdown",
      "metadata": {
        "id": "4YRNYrD6nOKE"
      },
      "source": [
        "As seen above, if the object associated with the base class is used, then the base class method is used. However, if the object associated with the derived class is used, then the method in this derived class is used instead (i.e., \n",
        "base class method overriden)."
      ]
    },
    {
      "cell_type": "markdown",
      "metadata": {
        "id": "TaC89caHVz57"
      },
      "source": [
        "#### `super()` method"
      ]
    },
    {
      "cell_type": "markdown",
      "metadata": {
        "id": "1iuQeAA_oNqD"
      },
      "source": [
        "If you want to access the overridden method of the base class from the derived class, you can do so using the super() method"
      ]
    },
    {
      "cell_type": "code",
      "metadata": {
        "id": "nCGhG1e0WeAR",
        "colab": {
          "base_uri": "https://localhost:8080/"
        },
        "outputId": "ecaff214-24e1-4804-a326-c4bfc57d33f4"
      },
      "source": [
        "class AA:\n",
        "    def explore(self):\n",
        "        print(\"explore() method from class A\")\n",
        " \n",
        "class BB(AA):\n",
        "    def explore(self):\n",
        "        super().explore()  # calling the parent class explore() method\n",
        "        print(\"Override method from class A and use explore() method from class B\")\n",
        " \n",
        "bb = BB()\n",
        "bb.explore()"
      ],
      "execution_count": 86,
      "outputs": [
        {
          "output_type": "stream",
          "text": [
            "explore() method from class A\n",
            "Override method from class A and use explore() method from class B\n"
          ],
          "name": "stdout"
        }
      ]
    },
    {
      "cell_type": "code",
      "metadata": {
        "id": "vsV5GWwvpEiT",
        "colab": {
          "base_uri": "https://localhost:8080/"
        },
        "outputId": "5ea19adf-6645-4c83-9b68-33afe54e7e39"
      },
      "source": [
        "class Thorlabs:\n",
        "  def __init__(self):\n",
        "    self._glass = \"BK7\" # protected attribute\n",
        "    self._diameter = \"1 inch\"\n",
        "    self._coating = \"AR coating\"\n",
        "\n",
        "class Lens(Thorlabs):\n",
        "  def __init__(self):\n",
        "    # Here we are calling the init of our base class to initialise the default parameters\n",
        "    super().__init__()\n",
        "    self.__manufacturer = \"Thorlabs\" # private attribute\n",
        "    \n",
        "  def setGlass(self, glass):\n",
        "    self._glass = glass\n",
        "\n",
        "  def displaySpecs(self):\n",
        "    print(\"Lens diameter: {}   Glass: {}   Coating: {}   Manufactured by {}\"\n",
        "    .format(self._diameter, self._glass, self._coating, self.__manufacturer))\n",
        "\n",
        "  @staticmethod\n",
        "  def glassTypes():\n",
        "    print('N-BK7, UV fused silica, calcium fluoride, magnesium fluoride, zinc selenide, germanium, silicon')\n",
        "\n",
        "lens = Lens()\n",
        "print(\"Would you like to change the type of glass from BK7? Y/N\")\n",
        "userChoice = input()\n",
        "if userChoice is 'Y':\n",
        "  print(\"Glass options:\")\n",
        "  lens.glassTypes()\n",
        "  print(\"Enter the type of glass\")\n",
        "  glass = input()\n",
        "  lens.setGlass(glass)\n",
        "lens.displaySpecs()"
      ],
      "execution_count": 87,
      "outputs": [
        {
          "output_type": "stream",
          "text": [
            "Would you like to change the type of glass from BK7? Y/N\n",
            "Y\n",
            "Glass options:\n",
            "N-BK7, UV fused silica, calcium fluoride, magnesium fluoride, zinc selenide, germanium, silicon\n",
            "Enter the type of glass\n",
            "UV fused silica\n",
            "Lens diameter: 1 inch   Glass: UV fused silica   Coating: AR coating   Manufactured by Thorlabs\n"
          ],
          "name": "stdout"
        }
      ]
    }
  ]
}